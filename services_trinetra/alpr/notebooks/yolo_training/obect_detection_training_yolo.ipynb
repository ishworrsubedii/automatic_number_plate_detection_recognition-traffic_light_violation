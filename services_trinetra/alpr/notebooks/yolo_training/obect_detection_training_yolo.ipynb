{
 "cells": [
  {
   "cell_type": "code",
   "execution_count": null,
   "metadata": {
    "colab": {
     "base_uri": "https://localhost:8080/"
    },
    "id": "_Rl_Eg4VOr98",
    "outputId": "14fccca2-6621-43d3-eeaa-52806723337b",
    "is_executing": true
   },
   "outputs": [],
   "source": [
    "from google.colab import drive\n",
    "drive.mount('/content/drive')"
   ]
  },
  {
   "cell_type": "code",
   "execution_count": null,
   "metadata": {
    "id": "NbkCxb49Urgr",
    "is_executing": true
   },
   "outputs": [],
   "source": [
    "import os\n",
    "import shutil\n",
    "\n",
    "shutil.unpack_archive(\"/content/drive/MyDrive/Final Year Project/vehicle detection/dataset/dataset_feb6.zip\",\"/content/drive/MyDrive/Final Year Project/vehicle detection/dataset/\")"
   ]
  },
  {
   "cell_type": "code",
   "execution_count": null,
   "metadata": {
    "colab": {
     "base_uri": "https://localhost:8080/"
    },
    "id": "3KINFoxjOmQc",
    "outputId": "0cc316c3-3e60-4666-88de-cce7fe00d4c5",
    "is_executing": true
   },
   "outputs": [],
   "source": [
    "!nvidia-smi"
   ]
  },
  {
   "cell_type": "code",
   "execution_count": null,
   "metadata": {
    "colab": {
     "base_uri": "https://localhost:8080/"
    },
    "id": "Vk_jTwCWQM5q",
    "outputId": "ad58f273-e43e-4e54-c49f-99250996cc4c",
    "is_executing": true
   },
   "outputs": [],
   "source": [
    "!pip install ultralytics"
   ]
  },
  {
   "cell_type": "code",
   "execution_count": null,
   "metadata": {
    "colab": {
     "base_uri": "https://localhost:8080/"
    },
    "id": "zUuBuELWWybm",
    "outputId": "324a8e8d-718b-4e6a-daae-69f1313e7599",
    "is_executing": true
   },
   "outputs": [],
   "source": [
    "!pip install split-folders"
   ]
  },
  {
   "cell_type": "code",
   "execution_count": null,
   "metadata": {
    "colab": {
     "base_uri": "https://localhost:8080/"
    },
    "id": "wCXQlhjlQRqK",
    "outputId": "07855ce3-94f3-4bde-9f93-bda42e59a6f5",
    "is_executing": true
   },
   "outputs": [],
   "source": [
    "import splitfolders\n",
    "\n",
    "source_dir = os.path.abspath('/content/drive/MyDrive/Final Year Project/vehicle detection/dataset/dataset_feb6/')\n",
    "destination_dir = os.path.abspath('/content/drive/MyDrive/Final Year Project/vehicle detection/dataset/data/')\n",
    "\n",
    "splitfolders.ratio(source_dir, destination_dir, seed=42, ratio=(0.8, 0.2))\n",
    "\n",
    "print(\"Dataset split completed\")"
   ]
  },
  {
   "cell_type": "code",
   "outputs": [],
   "source": [
    "from ultralytics import YOLO\n",
    "\n",
    "model = YOLO()\n",
    "\n",
    "results = model.train(\n",
    "    pretrained=False,\n",
    "    data='/content/drive/MyDrive/Final Year Project/vehicle detection/dataset/vehicle_det_data.yaml',\n",
    "    imgsz=640,\n",
    "    epochs=100,\n",
    "    batch=45,\n",
    "    project='/content/drive/MyDrive/Final Year Project/vehicle detection/dataset/dataset_feb6/training_results',\n",
    "    name='vehicle number plate feb 6',\n",
    "    cache=True\n",
    ")"
   ],
   "metadata": {
    "collapsed": false,
    "is_executing": true
   },
   "execution_count": null
  },
  {
   "cell_type": "code",
   "execution_count": null,
   "metadata": {
    "id": "Vm1-oLgEa7lB"
   },
   "outputs": [],
   "source": [
    "# !yolo task=detect mode=train resume=True model=/content/drive/MyDrive/yolov8_detection_training/training_results/license_plate_detection_yolov8n/weights/last.pt data=/content/drive/MyDrive/yolov8_detection_training/license_plate_data.yaml epochs=100 imgsz=640 batch=32 project=/content/drive/MyDrive/yolov8_detection_training/training_results name=license_plate_detection_yolov8n cache=True"
   ]
  }
 ],
 "metadata": {
  "accelerator": "GPU",
  "colab": {
   "provenance": []
  },
  "kernelspec": {
   "display_name": "Python 3",
   "name": "python3"
  },
  "language_info": {
   "name": "python"
  }
 },
 "nbformat": 4,
 "nbformat_minor": 0
}
